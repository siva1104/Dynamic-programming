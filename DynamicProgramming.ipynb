{
  "nbformat": 4,
  "nbformat_minor": 0,
  "metadata": {
    "colab": {
      "name": "DynamicProgramming.ipynb",
      "provenance": []
    },
    "kernelspec": {
      "name": "python3",
      "display_name": "Python 3"
    },
    "language_info": {
      "name": "python"
    }
  },
  "cells": [
    {
      "cell_type": "markdown",
      "source": [
        "Material for my MEdium post @ https://mageswaran1989.medium.com/a-mind-map-of-dynamic-programming-patterns-to-ace-interviews-72ff0370bb27"
      ],
      "metadata": {
        "id": "3A8RoxwgS-I1"
      }
    },
    {
      "cell_type": "markdown",
      "source": [
        "# Problem Type 1: \n",
        "Find a final result value for a given problem with single input which can have repetitive intermediate computation.\n",
        "\n",
        "## Fibonacci Sequence\n",
        "\n",
        "![](https://miro.medium.com/max/1400/1*ihViJG8E4df512tIMcDtkA.png)\n"
      ],
      "metadata": {
        "id": "W8jy8y5nnCM9"
      }
    },
    {
      "cell_type": "code",
      "execution_count": 1,
      "metadata": {
        "id": "v-c6rbINlhYS"
      },
      "outputs": [],
      "source": [
        "def fib(n, memo = {}):\n",
        "    \n",
        "    if n in memo:  # check and return the value if present in memo\n",
        "        return memo[n]\n",
        "\n",
        "    if n <= 1:\n",
        "        return n\n",
        "    else:\n",
        "        # calculate for first time\n",
        "        memo[n] = fib(n-1, memo) + fib(n-2, memo)   # logic\n",
        "        return memo[n]"
      ]
    },
    {
      "cell_type": "code",
      "source": [
        "%time\n",
        "fib(6)"
      ],
      "metadata": {
        "colab": {
          "base_uri": "https://localhost:8080/"
        },
        "id": "qdyoR4DdlvfV",
        "outputId": "61611157-5346-41f8-caf1-de17ff934f57"
      },
      "execution_count": null,
      "outputs": [
        {
          "output_type": "stream",
          "name": "stdout",
          "text": [
            "CPU times: user 4 µs, sys: 0 ns, total: 4 µs\n",
            "Wall time: 8.34 µs\n"
          ]
        },
        {
          "output_type": "execute_result",
          "data": {
            "text/plain": [
              "8"
            ]
          },
          "metadata": {},
          "execution_count": 16
        }
      ]
    },
    {
      "cell_type": "code",
      "source": [
        "%time\n",
        "fib(50)"
      ],
      "metadata": {
        "colab": {
          "base_uri": "https://localhost:8080/"
        },
        "id": "UJuqyQpGl1WW",
        "outputId": "330a65a2-9c8b-4d0f-c6af-3543cfcae605"
      },
      "execution_count": null,
      "outputs": [
        {
          "output_type": "stream",
          "name": "stdout",
          "text": [
            "CPU times: user 4 µs, sys: 0 ns, total: 4 µs\n",
            "Wall time: 8.58 µs\n"
          ]
        },
        {
          "output_type": "execute_result",
          "data": {
            "text/plain": [
              "12586269025"
            ]
          },
          "metadata": {},
          "execution_count": 17
        }
      ]
    },
    {
      "cell_type": "markdown",
      "source": [
        "Runtime: O(n)\n",
        "\n",
        "**Space: O(n)**"
      ],
      "metadata": {
        "id": "n9rUJcoCoPxI"
      }
    },
    {
      "cell_type": "markdown",
      "source": [
        "# Problem Type 2 : \n",
        "\n",
        "Find a final result value for a given problem with multiple inputs, again which can have repetitive intermediate computations.\n",
        "\n",
        "\n",
        "## Grid Traveller\n",
        "Say that you are a traveller on a grid. You begin in the top-left corner and your goal is to travel to the bottom-right corner. You may only move down or right. In how many ways can you travel to the goal on a grid with dimension m * n?\n",
        "Write a function grid_traveller(m, n) that calculates this.\n",
        "\n",
        "\n",
        "![](https://miro.medium.com/max/1400/1*wuMyHAi6GLxpxarXLHsQ_A.png)\n"
      ],
      "metadata": {
        "id": "iOXEOVonnMN2"
      }
    },
    {
      "cell_type": "code",
      "source": [
        "def grid_travel(m,n, memo={}):\n",
        "    \"\"\"\n",
        "\n",
        "    :param m: Total number of rows\n",
        "    :param n: Total number of columns\n",
        "    :return:\n",
        "    \"\"\"\n",
        "    \n",
        "    # make the key with m & n, to differentiate rows and cols\n",
        "    key = f\"m{m}n{n}\"\n",
        "    if key in memo:\n",
        "        return memo[key]\n",
        "\n",
        "    # when we are in last cell or only one cell, there is only one way\n",
        "    if (m == 1 and n==1):  \n",
        "        return 1\n",
        "    # when we are in no cell there is no way\n",
        "    elif (m ==0 or n ==0):\n",
        "        return 0\n",
        "    else:\n",
        "        # logic: add all the returned values from leaf nodes\n",
        "        memo[key] = grid_travel(m-1, n, memo) + grid_travel(m, n-1, memo)\n",
        "        return memo[key]"
      ],
      "metadata": {
        "id": "NJx2vmnam6Oc"
      },
      "execution_count": null,
      "outputs": []
    },
    {
      "cell_type": "code",
      "source": [
        "grid_travel(1,1)"
      ],
      "metadata": {
        "colab": {
          "base_uri": "https://localhost:8080/"
        },
        "id": "Kq-l0gqZn1fU",
        "outputId": "6f220b86-2e6a-48b8-aa3a-86e989919582"
      },
      "execution_count": null,
      "outputs": [
        {
          "output_type": "execute_result",
          "data": {
            "text/plain": [
              "1"
            ]
          },
          "metadata": {},
          "execution_count": 20
        }
      ]
    },
    {
      "cell_type": "code",
      "source": [
        "grid_travel(2,3)"
      ],
      "metadata": {
        "colab": {
          "base_uri": "https://localhost:8080/"
        },
        "id": "J8fX6LAKn5tc",
        "outputId": "74af268a-2b23-4518-9801-e101832d28c3"
      },
      "execution_count": null,
      "outputs": [
        {
          "output_type": "execute_result",
          "data": {
            "text/plain": [
              "3"
            ]
          },
          "metadata": {},
          "execution_count": 21
        }
      ]
    },
    {
      "cell_type": "code",
      "source": [
        "grid_travel(3,3)"
      ],
      "metadata": {
        "colab": {
          "base_uri": "https://localhost:8080/"
        },
        "id": "Cg7Kq6bYn9jp",
        "outputId": "77150cc4-1fc8-4a78-d5de-f8df5f64a580"
      },
      "execution_count": null,
      "outputs": [
        {
          "output_type": "execute_result",
          "data": {
            "text/plain": [
              "6"
            ]
          },
          "metadata": {},
          "execution_count": 22
        }
      ]
    },
    {
      "cell_type": "code",
      "source": [
        "grid_travel(18,18)"
      ],
      "metadata": {
        "colab": {
          "base_uri": "https://localhost:8080/"
        },
        "id": "3orUounFn_EE",
        "outputId": "43920d99-d560-4bbb-8a9a-8364c302eedf"
      },
      "execution_count": null,
      "outputs": [
        {
          "output_type": "execute_result",
          "data": {
            "text/plain": [
              "2333606220"
            ]
          },
          "metadata": {},
          "execution_count": 23
        }
      ]
    },
    {
      "cell_type": "markdown",
      "source": [
        "**Time: O(n * m)**\n",
        "\n",
        "**Space: O(n+m)**"
      ],
      "metadata": {
        "id": "1XZRcAOIoVq4"
      }
    },
    {
      "cell_type": "markdown",
      "source": [
        "# Problem Type 3: Decision Problem\n",
        "\n",
        "Return a true or false after exploring all possible solution space from a given list of inputs and a target\n",
        "\n",
        "## canSum\n",
        "Write a function canSum(target_sum, numbers) that takes in a target sum and an array of numbers as arguments.\n",
        "The function should return a boolean indicating whether or not it is possible to generate the target sum using numbers from the array.\n",
        "You may use an element of the array as many times as needed and al inputs are non negative\n",
        "\n",
        "![](https://miro.medium.com/max/1400/1*jkS5H24fSUQd1d35uZFvLw.png)"
      ],
      "metadata": {
        "id": "rTazdVzlvoQz"
      }
    },
    {
      "cell_type": "code",
      "source": [
        "def can_sum(target_sum, values, memo={}):\n",
        "    \"\"\"\n",
        "\n",
        "    :param target_sum:\n",
        "    :param values: list\n",
        "    :return:\n",
        "    \"\"\"\n",
        "    # print(memo, values)\n",
        "    if target_sum in memo:\n",
        "        return memo[target_sum]\n",
        "\n",
        "    if target_sum == 0:\n",
        "        return True\n",
        "    if target_sum < 0:\n",
        "        return False\n",
        "\n",
        "    for value in values:\n",
        "        reminder = target_sum - value\n",
        "        if can_sum(reminder, values, memo):\n",
        "            memo[target_sum] = True\n",
        "            return True\n",
        "\n",
        "    # If no way leads to zero then there is no possible values leads to sum\n",
        "    memo[target_sum] = False\n",
        "    return False\n"
      ],
      "metadata": {
        "id": "n9E-_bKKoBvf"
      },
      "execution_count": null,
      "outputs": []
    },
    {
      "cell_type": "code",
      "source": [
        "print(can_sum(7, [2, 3], {}))"
      ],
      "metadata": {
        "colab": {
          "base_uri": "https://localhost:8080/"
        },
        "id": "VE2ntmIxve0_",
        "outputId": "2b082371-9bbe-4527-d6dd-06b2f827f4c4"
      },
      "execution_count": null,
      "outputs": [
        {
          "output_type": "stream",
          "name": "stdout",
          "text": [
            "True\n"
          ]
        }
      ]
    },
    {
      "cell_type": "code",
      "source": [
        "print(can_sum(7, [5, 3, 4, 7], {}))"
      ],
      "metadata": {
        "colab": {
          "base_uri": "https://localhost:8080/"
        },
        "id": "jVUJjbPfvil4",
        "outputId": "0797dcdb-7685-4180-cb73-a702169105c7"
      },
      "execution_count": null,
      "outputs": [
        {
          "output_type": "stream",
          "name": "stdout",
          "text": [
            "True\n"
          ]
        }
      ]
    },
    {
      "cell_type": "code",
      "source": [
        "print(can_sum(7, [2, 4], {}))"
      ],
      "metadata": {
        "colab": {
          "base_uri": "https://localhost:8080/"
        },
        "id": "713ZfYT_vj3v",
        "outputId": "ebc3df64-8d1e-434c-d747-5f60bd4d2861"
      },
      "execution_count": null,
      "outputs": [
        {
          "output_type": "stream",
          "name": "stdout",
          "text": [
            "False\n"
          ]
        }
      ]
    },
    {
      "cell_type": "code",
      "source": [
        "print(can_sum(8, [2, 3, 5], {}))"
      ],
      "metadata": {
        "colab": {
          "base_uri": "https://localhost:8080/"
        },
        "id": "K6lc_NtMvk0t",
        "outputId": "db16e046-9b19-4f66-e966-7175ae271f95"
      },
      "execution_count": null,
      "outputs": [
        {
          "output_type": "stream",
          "name": "stdout",
          "text": [
            "True\n"
          ]
        }
      ]
    },
    {
      "cell_type": "code",
      "source": [
        "print(can_sum(300, [7, 14], {}))"
      ],
      "metadata": {
        "colab": {
          "base_uri": "https://localhost:8080/"
        },
        "id": "28t2o7zFvlzZ",
        "outputId": "b5524e73-accb-4d18-f5ff-f1b6e9ab0d4c"
      },
      "execution_count": null,
      "outputs": [
        {
          "output_type": "stream",
          "name": "stdout",
          "text": [
            "False\n"
          ]
        }
      ]
    },
    {
      "cell_type": "markdown",
      "source": [
        "**m = target sum**\n",
        "\n",
        "**n = array length**\n",
        "\n",
        "**Time: O(n*m)**\n",
        "\n",
        "**Space: O(m)** "
      ],
      "metadata": {
        "id": "JN3x5Qzzy3Gs"
      }
    },
    {
      "cell_type": "markdown",
      "source": [
        "# Problem Type 4: Combination Problem\n",
        "\n",
        "Find possible combination for given target and list of possible values.\n",
        "\n",
        "## How Sum\n",
        "\n",
        "Write a function how_much(target_sum, numbers), that takes in a target_sum and an array of numbers as arguments.\n",
        "The function should return an array containing any combination of elements that add up to exactly the target sum. If there is no combination that adds up to the target sum, return null.\n",
        "If there are multiple combinations possible, you may return any single one.\n",
        "\n",
        "![](https://miro.medium.com/max/1400/1*hzeQFLqK0n-_S8F-bOjCeg.png)"
      ],
      "metadata": {
        "id": "XUdFrkir0wex"
      }
    },
    {
      "cell_type": "code",
      "source": [
        "def how_sum(target_sum, values, memo={}):\n",
        "    if target_sum in memo:\n",
        "        return memo[target_sum]\n",
        "\n",
        "    if target_sum == 0:\n",
        "        return []\n",
        "    if target_sum < 0:\n",
        "        return None\n",
        "\n",
        "    for value in values:\n",
        "        ret = how_sum(target_sum - value, values, memo)\n",
        "        if ret is not None:\n",
        "            ret.append(value)\n",
        "            memo[target_sum] = ret\n",
        "            return ret\n",
        "\n",
        "    memo[target_sum] = None\n",
        "    return None\n",
        "\n",
        "\n",
        "print(how_sum(7, [2, 3], {}))\n",
        "print(how_sum(7, [5, 3, 4, 7], {}))\n",
        "print(how_sum(7, [2, 4], {}))\n",
        "print(how_sum(8, [2, 3, 5], {}))\n",
        "print(how_sum(300, [7, 14], {}))"
      ],
      "metadata": {
        "colab": {
          "base_uri": "https://localhost:8080/"
        },
        "id": "6klDuOwhvmGg",
        "outputId": "e43504b0-95e7-425f-e609-8b87870f461d"
      },
      "execution_count": null,
      "outputs": [
        {
          "output_type": "stream",
          "name": "stdout",
          "text": [
            "[3, 2, 2]\n",
            "[4, 3]\n",
            "None\n",
            "[2, 2, 2, 2]\n",
            "None\n"
          ]
        }
      ]
    },
    {
      "cell_type": "markdown",
      "source": [
        "# Problem Type 5: Optimization Problem\n",
        "Find all possible combination for given target and list of possible values and return the best one\n",
        "\n",
        "## Best Sum\n",
        "Write a function best_sum(target_sum, numbers) that takes in a target sum and an array of numbers as arguments.\n",
        "The function should return an array containing the shortest combination of numbers that add up to exactly the target sum.\n",
        "If there is a tie for the shortest combination, you may return any on of the shortest\n",
        "\n",
        "![](https://miro.medium.com/max/1400/1*1E8Ts7CrxsWEGJeEH19n6g.png)"
      ],
      "metadata": {
        "id": "ltFH9Xvc-0Zt"
      }
    },
    {
      "cell_type": "code",
      "source": [
        "%time\n",
        "def best_sum(target_sum, values, memo):\n",
        "\n",
        "    if target_sum in memo:\n",
        "        return memo[target_sum]\n",
        "\n",
        "    if target_sum == 0:\n",
        "        return []\n",
        "\n",
        "    if target_sum < 0:\n",
        "        return None\n",
        "\n",
        "    best_pair = None\n",
        "\n",
        "    for value in values:\n",
        "        ret = best_sum(target_sum=target_sum - value, values=values, memo=memo)\n",
        "        if ret is not None:\n",
        "            res = ret + [value]\n",
        "            if best_pair is None or len(res) < len(best_pair):\n",
        "                best_pair = res\n",
        "                memo[target_sum] = best_pair\n",
        "                # return best_pair # Dont return the value until all possible combinations are evaluated for child tree\n",
        "\n",
        "    memo[target_sum] = best_pair\n",
        "    return memo[target_sum]\n",
        "\n",
        "\n",
        "print(best_sum(7, [2, 3], {}))\n",
        "print(best_sum(7, [5, 3, 4, 7], {}))\n",
        "print(best_sum(7, [2, 4], {}))\n",
        "print(best_sum(8, [2, 5, 3], {}))\n",
        "print(best_sum(8, [2, 3, 5], {}))\n",
        "print(best_sum(300, [7, 14], {}))\n",
        "print(best_sum(100, [1,2,5,25], {}))\n",
        "print(best_sum(4830, [7, 14], {}))"
      ],
      "metadata": {
        "colab": {
          "base_uri": "https://localhost:8080/"
        },
        "id": "H09kerrn0v2s",
        "outputId": "eac5eb09-73bc-4554-f8fc-3c070d1ab0cb"
      },
      "execution_count": null,
      "outputs": [
        {
          "output_type": "stream",
          "name": "stdout",
          "text": [
            "CPU times: user 3 µs, sys: 0 ns, total: 3 µs\n",
            "Wall time: 5.48 µs\n",
            "[3, 2, 2]\n",
            "[7]\n",
            "None\n",
            "[3, 5]\n",
            "[5, 3]\n",
            "None\n",
            "[25, 25, 25, 25]\n",
            "[14, 14, 14, 14, 14, 14, 14, 14, 14, 14, 14, 14, 14, 14, 14, 14, 14, 14, 14, 14, 14, 14, 14, 14, 14, 14, 14, 14, 14, 14, 14, 14, 14, 14, 14, 14, 14, 14, 14, 14, 14, 14, 14, 14, 14, 14, 14, 14, 14, 14, 14, 14, 14, 14, 14, 14, 14, 14, 14, 14, 14, 14, 14, 14, 14, 14, 14, 14, 14, 14, 14, 14, 14, 14, 14, 14, 14, 14, 14, 14, 14, 14, 14, 14, 14, 14, 14, 14, 14, 14, 14, 14, 14, 14, 14, 14, 14, 14, 14, 14, 14, 14, 14, 14, 14, 14, 14, 14, 14, 14, 14, 14, 14, 14, 14, 14, 14, 14, 14, 14, 14, 14, 14, 14, 14, 14, 14, 14, 14, 14, 14, 14, 14, 14, 14, 14, 14, 14, 14, 14, 14, 14, 14, 14, 14, 14, 14, 14, 14, 14, 14, 14, 14, 14, 14, 14, 14, 14, 14, 14, 14, 14, 14, 14, 14, 14, 14, 14, 14, 14, 14, 14, 14, 14, 14, 14, 14, 14, 14, 14, 14, 14, 14, 14, 14, 14, 14, 14, 14, 14, 14, 14, 14, 14, 14, 14, 14, 14, 14, 14, 14, 14, 14, 14, 14, 14, 14, 14, 14, 14, 14, 14, 14, 14, 14, 14, 14, 14, 14, 14, 14, 14, 14, 14, 14, 14, 14, 14, 14, 14, 14, 14, 14, 14, 14, 14, 14, 14, 14, 14, 14, 14, 14, 14, 14, 14, 14, 14, 14, 14, 14, 14, 14, 14, 14, 14, 14, 14, 14, 14, 14, 14, 14, 14, 14, 14, 14, 14, 14, 14, 14, 14, 14, 14, 14, 14, 14, 14, 14, 14, 14, 14, 14, 14, 14, 14, 14, 14, 14, 14, 14, 14, 14, 14, 14, 14, 14, 14, 14, 14, 14, 14, 14, 14, 14, 14, 14, 14, 14, 14, 14, 14, 14, 14, 14, 14, 14, 14, 14, 14, 14, 14, 14, 14, 14, 14, 14, 14, 14, 14, 14, 14, 14, 14, 14, 14, 14, 14, 14, 14, 14, 14, 14, 14, 14]\n"
          ]
        }
      ]
    },
    {
      "cell_type": "markdown",
      "source": [
        "**m = target sum , n = array length**\n",
        "\n",
        "**Time: O(n*m²)**\n",
        "\n",
        "**Space: O(m²)**"
      ],
      "metadata": {
        "id": "Fi20VKiuR3lp"
      }
    },
    {
      "cell_type": "markdown",
      "source": [
        "# Time to test our understanding!\n",
        "\n",
        "## Can Construct\n",
        "\n",
        "Write function can_construct(target, word_bank) that accepts a target string and an array of strings\n",
        "The function should return a boolean indicating whether or not the target can be constructed by concatenating elements of the word_bank array.\n",
        "You may reuse elements of word_bank as many times as needed"
      ],
      "metadata": {
        "id": "0l507joVDAUH"
      }
    },
    {
      "cell_type": "code",
      "source": [
        "def can_construct(target, word_bank, memo={}):\n",
        "\n",
        "    if target in memo:\n",
        "        return memo[target]\n",
        "\n",
        "    if target == '':\n",
        "        return True # When we found a way reconstruct the string\n",
        "\n",
        "    # Return true if any of branch returns true\n",
        "    for word in word_bank:\n",
        "        # check for matching prefix\n",
        "        if target.startswith(word):\n",
        "            suffix = target[len(word):]\n",
        "            if can_construct(suffix, word_bank):\n",
        "                memo[suffix] = True\n",
        "                return True\n",
        "\n",
        "    # If no branch leads to positive case, return false\n",
        "    memo[target] = False\n",
        "    return False"
      ],
      "metadata": {
        "id": "OnaTZ0hP5ANQ"
      },
      "execution_count": null,
      "outputs": []
    },
    {
      "cell_type": "code",
      "source": [
        "can_construct(\"abcdef\", ['ab', 'abc', 'cd', 'def', 'abcd']) # true"
      ],
      "metadata": {
        "colab": {
          "base_uri": "https://localhost:8080/"
        },
        "id": "ZzvjCEbG_1us",
        "outputId": "79d74765-66a8-4f58-e474-0983174fbf44"
      },
      "execution_count": null,
      "outputs": [
        {
          "output_type": "execute_result",
          "data": {
            "text/plain": [
              "True"
            ]
          },
          "metadata": {},
          "execution_count": 37
        }
      ]
    },
    {
      "cell_type": "code",
      "source": [
        "can_construct(\"skateboard\", ['bo', 'rd', 'ate', 't', 'ska', 'sk', 'boar']) # false"
      ],
      "metadata": {
        "colab": {
          "base_uri": "https://localhost:8080/"
        },
        "id": "-vOq4NLHC4Pj",
        "outputId": "4f2df13b-483e-44e3-9324-5f890f2ef3ce"
      },
      "execution_count": null,
      "outputs": [
        {
          "output_type": "execute_result",
          "data": {
            "text/plain": [
              "False"
            ]
          },
          "metadata": {},
          "execution_count": 38
        }
      ]
    },
    {
      "cell_type": "code",
      "source": [
        "can_construct(\"enterapotentpot\", ['a', 'p', 'ent', 'enter', 'ot', 'o', 't']) # true\n"
      ],
      "metadata": {
        "colab": {
          "base_uri": "https://localhost:8080/"
        },
        "id": "K8UW9UDnC71N",
        "outputId": "9b89d398-d52f-444a-8b8e-0fad7f66ef9b"
      },
      "execution_count": null,
      "outputs": [
        {
          "output_type": "execute_result",
          "data": {
            "text/plain": [
              "True"
            ]
          },
          "metadata": {},
          "execution_count": 39
        }
      ]
    },
    {
      "cell_type": "code",
      "source": [
        "can_construct(\"eeeeeeeeeeeeeeeeeeeeeeeeeeeeeeeef\", ['e', 'ee', 'eee', 'eeee', 'eeeee', 'eeeeee']) # false"
      ],
      "metadata": {
        "colab": {
          "base_uri": "https://localhost:8080/"
        },
        "id": "HtrbHYScC9BO",
        "outputId": "170f4757-0d3b-4e57-c393-a3518e133688"
      },
      "execution_count": null,
      "outputs": [
        {
          "output_type": "execute_result",
          "data": {
            "text/plain": [
              "False"
            ]
          },
          "metadata": {},
          "execution_count": 40
        }
      ]
    },
    {
      "cell_type": "markdown",
      "source": [
        "**m = target word length , n = word bank length**\n",
        "\n",
        "**Time: O(n * m * m) n branches for each element in the list and m subtract operation in each branch and m operation to slice array**\n",
        "\n",
        "**Space: O(m*m) m for stack depth and m for to store sliced array**"
      ],
      "metadata": {
        "id": "ogcu6FXqNGLf"
      }
    },
    {
      "cell_type": "markdown",
      "source": [
        "## Count Construct\n",
        "\n",
        "Write a function count_construct(target, word_bank) taht accepts a target string and an array of strings.\n",
        "The function should return the number of ways that the target can be constructed by concatenating elements of the word_bank array.\n",
        "You may reuse elements of word_bank as many time as needed."
      ],
      "metadata": {
        "id": "5t97Ie4lGGf3"
      }
    },
    {
      "cell_type": "code",
      "source": [
        "def count_contruct(target, word_bank, memo={}):\n",
        "\n",
        "  if target in memo:\n",
        "    return memo[target]\n",
        "  if len(target) == 0 :\n",
        "    return True\n",
        "\n",
        "  total_ways = 0\n",
        "  for word in word_bank:\n",
        "    if target.startswith(word):\n",
        "      suffix = target[len(word):]\n",
        "      total_ways += count_contruct(suffix, word_bank)\n",
        "      \n",
        "  memo[target] = total_ways\n",
        "  return total_ways\n",
        "\n"
      ],
      "metadata": {
        "id": "17td-h55C9dR"
      },
      "execution_count": null,
      "outputs": []
    },
    {
      "cell_type": "code",
      "source": [
        "print(count_contruct(\"abcdef\", ['ab', 'abc', 'cd', 'def', 'abcd'])) # 1\n",
        "print(count_contruct(\"skateboard\", ['bo', 'rd', 'ate', 't', 'ska', 'sk', 'boar'])) # 0\n",
        "print(count_contruct(\"enterapotentpot\", ['a', 'p', 'ent', 'enter', 'ot', 'o', 't'])) # 4"
      ],
      "metadata": {
        "colab": {
          "base_uri": "https://localhost:8080/"
        },
        "id": "Y_lOYWP0Lqhe",
        "outputId": "67e87ceb-331d-4a0d-91c2-2199394738ec"
      },
      "execution_count": null,
      "outputs": [
        {
          "output_type": "stream",
          "name": "stdout",
          "text": [
            "1\n",
            "0\n",
            "4\n"
          ]
        }
      ]
    },
    {
      "cell_type": "code",
      "source": [
        "count_contruct(\"eeeeeeeeeeeeeeeeeeeeeeeeeeeeeeeef\", ['e', 'ee', 'eee', 'eeee', 'eeeee', 'eeeeee']) # false"
      ],
      "metadata": {
        "colab": {
          "base_uri": "https://localhost:8080/"
        },
        "id": "-ErLGj4eL2-u",
        "outputId": "f31b83ea-ffec-428d-b7fb-fc99b569cb28"
      },
      "execution_count": null,
      "outputs": [
        {
          "output_type": "execute_result",
          "data": {
            "text/plain": [
              "0"
            ]
          },
          "metadata": {},
          "execution_count": 49
        }
      ]
    },
    {
      "cell_type": "markdown",
      "source": [
        "\n",
        "**m = target word length , n = word bank length.**\n",
        "\n",
        "**Time: O(n * m * m) n branches for each element in the list and m subtract   operation in each branch and m operation to slice array.**\n",
        "\n",
        "**Space: O(m*m) m for stack depth and m for to store sliced array.**"
      ],
      "metadata": {
        "id": "zaExsH4hM_wm"
      }
    },
    {
      "cell_type": "markdown",
      "source": [
        "## All Construct\n",
        "\n",
        "Write a function all_construct(target, word_bank) that accepts a target string and an array of strings\n",
        "The function should return a 2D array containing all of the ways that the target can be constructed by concatenating elements of the word bank array. Each element of the 2D array should represent one combination that constructs the target.\n",
        "You may reuse elements of the word bank as many times as needed."
      ],
      "metadata": {
        "id": "TvM-HJHsOdRD"
      }
    },
    {
      "cell_type": "code",
      "source": [
        "def all_construct(target, word_bank, memo={}):\n",
        "\n",
        "    if target in memo:\n",
        "        return memo[target]\n",
        "\n",
        "    if target in memo:\n",
        "        return memo[target]\n",
        "\n",
        "    if target == '':\n",
        "        return [[]]\n",
        "\n",
        "    res = []\n",
        "    for word in word_bank:\n",
        "        if target.startswith(word):\n",
        "            suffix = target[len(word):]\n",
        "            suffix_ways = all_construct(suffix, word_bank)\n",
        "            target_ways = list(map(lambda l: l + [word], suffix_ways))\n",
        "            res.extend(target_ways)\n",
        "\n",
        "    memo[target] = res\n",
        "\n",
        "    return res\n",
        "\n",
        "\n",
        "print(all_construct(\"purple\", [\"purp\", \"p\", \"ur\", \"le\", \"purpl\"])) # 2\n",
        "# print(all_construct(\"abcdef\", [\"ab\", \"abc\", \"cd\", \"def\", \"abcd\"])) # 1\n",
        "print(all_construct(\"abcdef\", [\"ab\", \"abc\", \"cd\", \"def\", \"abcd\", \"ef\", \"c\"], dict()))  # 5\n",
        "\"\"\"\n",
        "[\n",
        "[ab, cd, ef]\n",
        "[ab, c, def]\n",
        "[abc, def]\n",
        "[abcd, ef]\n",
        "]\n",
        "\"\"\"\n",
        "\n",
        "print(all_construct(\"skateboard\", [\"bo\", \"rd\", \"ate\", \"t\", \"ska\", \"sk\", \"boar\"])) # 0\n",
        "print(all_construct(\"enterapotentpot\", [\"a\", \"p\", \"ent\", \"enter\", \"ot\", \"o\", \"t\"])) # 4\n",
        "print(all_construct(\"eeeeeeeeeeeeeeeeeeeeeeeeeeeeeee\", [\"e\", \"ee\", \"eee\", \"eeee\", \"eeeee\", \"eeeeee\"])) # 0"
      ],
      "metadata": {
        "colab": {
          "base_uri": "https://localhost:8080/"
        },
        "id": "cbgrlgHpMKxN",
        "outputId": "ca38edf7-aae5-4715-e720-795768e9b1a9"
      },
      "execution_count": null,
      "outputs": [
        {
          "output_type": "stream",
          "name": "stdout",
          "text": [
            "[['le', 'purp'], ['le', 'p', 'ur', 'p']]\n",
            "[['ef', 'cd', 'ab'], ['def', 'c', 'ab'], ['def', 'abc'], ['ef', 'abcd']]\n",
            "[]\n",
            "[['ot', 'p', 'ent', 'ot', 'p', 'a', 'enter'], ['t', 'o', 'p', 'ent', 'ot', 'p', 'a', 'enter'], ['ot', 'p', 'ent', 't', 'o', 'p', 'a', 'enter'], ['t', 'o', 'p', 'ent', 't', 'o', 'p', 'a', 'enter']]\n"
          ]
        }
      ]
    },
    {
      "cell_type": "markdown",
      "source": [
        "**m = target word length , n = number of words in word bank length**\n",
        "\n",
        "**Time: O(n^m ) If complexity is exponential i.e m^n then we can ignore additional complexity like slicing the array**\n",
        "\n",
        "**Space: O(m)**"
      ],
      "metadata": {
        "id": "isD6Vt7IRdUl"
      }
    },
    {
      "cell_type": "markdown",
      "source": [
        "## Cutting a Rod\n",
        "\n",
        "Given a rod of length n inches and an array of prices that includes prices of all pieces of size smaller than n. Determine the maximum value obtainable by cutting up the rod and selling the pieces. For example, if the length of the rod is 8 and the values of different pieces are given as the following, then the maximum obtainable value is 22 (by cutting in two pieces of lengths 2 and 6) \n",
        "\n",
        "```\n",
        "length   | 1   2   3   4   5   6   7   8  \n",
        "--------------------------------------------\n",
        "price    | 1   5   8   9  10  17  17  20\n",
        "```\n",
        "\n",
        "And if the prices are as following, then the maximum obtainable value is 24 (by cutting in eight pieces of length 1) \n",
        "\n",
        "```\n",
        "length   | 1   2   3   4   5   6   7   8  \n",
        "--------------------------------------------\n",
        "price    | 3   5   8   9  10  17  17  20\n",
        "```"
      ],
      "metadata": {
        "id": "5mSky6XLQjEC"
      }
    },
    {
      "cell_type": "code",
      "source": [
        "import sys\n",
        "def cutting_rod(length, price_list, memo):\n",
        "  if length == 0:\n",
        "    return 0\n",
        "\n",
        "  max_cost = -sys.maxsize\n",
        "\n",
        "  for i in range(1, length+1):\n",
        "      cost = price_list[i-1] + cutting_rod(length - i, price_list)\n",
        "      if cost > max_cost:\n",
        "        max_cost = cost\n",
        "\n",
        "  return max_cost\n"
      ],
      "metadata": {
        "id": "xF6xzbfkOis9"
      },
      "execution_count": null,
      "outputs": []
    },
    {
      "cell_type": "code",
      "source": [
        "cutting_rod(4, [7,6,5,4])"
      ],
      "metadata": {
        "colab": {
          "base_uri": "https://localhost:8080/"
        },
        "id": "xILWd-NxdY2o",
        "outputId": "ff0a2788-590a-4537-b154-2b7ea24a1b0f"
      },
      "execution_count": null,
      "outputs": [
        {
          "output_type": "execute_result",
          "data": {
            "text/plain": [
              "28"
            ]
          },
          "metadata": {},
          "execution_count": 93
        }
      ]
    },
    {
      "cell_type": "code",
      "source": [
        "cutting_rod(8, [1,5,8,9,10,17,17,20])"
      ],
      "metadata": {
        "colab": {
          "base_uri": "https://localhost:8080/"
        },
        "id": "IhVa9KqKTFdG",
        "outputId": "b3357228-1e80-42b4-c081-da60c0ffc93a"
      },
      "execution_count": null,
      "outputs": [
        {
          "output_type": "execute_result",
          "data": {
            "text/plain": [
              "22"
            ]
          },
          "metadata": {},
          "execution_count": 94
        }
      ]
    },
    {
      "cell_type": "code",
      "source": [
        "import sys\n",
        "def cutting_rod(length, price_list, memo):\n",
        "  if length == 0:\n",
        "    return 0\n",
        "\n",
        "  max_cost = -sys.maxsize\n",
        "\n",
        "  for i in range(1, length+1):\n",
        "      cost = price_list[i-1] + cutting_rod(length - i, price_list)\n",
        "      if cost > max_cost:\n",
        "        max_cost = cost\n",
        "\n",
        "  return max_cost\n"
      ],
      "metadata": {
        "id": "3A26zhvICEoo"
      },
      "execution_count": null,
      "outputs": []
    },
    {
      "cell_type": "code",
      "source": [
        "def cutting_rod(length, price_list):\n",
        "  cut_price = [0] * (length + 1)\n",
        "  \n",
        "  for i in range(1, length+1):\n",
        "    max_value = -sys.maxsize\n",
        "    for j in range(i):\n",
        "      max_value = max(cut_price[i-j-1] + price_list[j], max_value)\n",
        "    cut_price[i] = max_value\n",
        "  return cut_price[length]"
      ],
      "metadata": {
        "id": "emU-2PqGsduE"
      },
      "execution_count": null,
      "outputs": []
    },
    {
      "cell_type": "code",
      "source": [
        "cutting_rod(4, [7,6,5,4])"
      ],
      "metadata": {
        "colab": {
          "base_uri": "https://localhost:8080/"
        },
        "id": "2TeKB3NctJPF",
        "outputId": "d4b999c1-af36-4f40-f267-1366f230d3fa"
      },
      "execution_count": null,
      "outputs": [
        {
          "output_type": "execute_result",
          "data": {
            "text/plain": [
              "28"
            ]
          },
          "metadata": {},
          "execution_count": 118
        }
      ]
    },
    {
      "cell_type": "code",
      "source": [
        "cutting_rod(8, [1,5,8,9,10,17,17,20])"
      ],
      "metadata": {
        "colab": {
          "base_uri": "https://localhost:8080/"
        },
        "id": "OCL28pa7tJCA",
        "outputId": "214a1422-9b4d-43cc-d1f7-b3f4778f4255"
      },
      "execution_count": null,
      "outputs": [
        {
          "output_type": "execute_result",
          "data": {
            "text/plain": [
              "22"
            ]
          },
          "metadata": {},
          "execution_count": 119
        }
      ]
    },
    {
      "cell_type": "markdown",
      "source": [
        "## Coin Change\n",
        "\n",
        "Given a value N, if we want to make change for N cents, and we have infinite supply of each of S = { S1, S2, .. , Sm} valued coins, how many ways can we make the change? The order of coins doesn’t matter.\n",
        "For example, for N = 4 and S = {1,2,3}, there are four solutions: {1,1,1,1},{1,1,2},{2,2},{1,3}. So output should be 4. For N = 10 and S = {2, 5, 3, 6}, there are five solutions: {2,2,2,2,2}, {2,2,3,3}, {2,2,6}, {2,3,5} and {5,5}. So the output should be 5."
      ],
      "metadata": {
        "id": "JljNIKh6mmPG"
      }
    },
    {
      "cell_type": "code",
      "source": [
        "def coin_change(n, coins, memo):\n",
        "\n",
        "  if n in memo:\n",
        "    return memo[n]\n",
        "  \n",
        "  if n == 0: # when \n",
        "    return 1\n",
        "\n",
        "  if n < 0:\n",
        "    return 0\n",
        "\n",
        "  total_ways = 0\n",
        "\n",
        "  for coin in coins:\n",
        "      total_ways += coin_change(n-coin, coins, memo)\n",
        "      \n",
        "  memo[n] = total_ways\n",
        "\n",
        "  return total_ways"
      ],
      "metadata": {
        "id": "FWzm0B_sifLU"
      },
      "execution_count": null,
      "outputs": []
    },
    {
      "cell_type": "code",
      "source": [
        "coin_change(4, [1,2,3], {})"
      ],
      "metadata": {
        "colab": {
          "base_uri": "https://localhost:8080/"
        },
        "id": "fiIe4jVEnd-8",
        "outputId": "37980c80-762c-4122-9dd3-ca33e78d8d16"
      },
      "execution_count": null,
      "outputs": [
        {
          "output_type": "execute_result",
          "data": {
            "text/plain": [
              "7"
            ]
          },
          "metadata": {},
          "execution_count": 210
        }
      ]
    },
    {
      "cell_type": "code",
      "source": [
        "coin_change(10, [2,5,3,6], {})"
      ],
      "metadata": {
        "colab": {
          "base_uri": "https://localhost:8080/"
        },
        "id": "jtL-zTF5ngnd",
        "outputId": "5e6ee310-f2a1-4273-938d-02900700e75c"
      },
      "execution_count": null,
      "outputs": [
        {
          "output_type": "execute_result",
          "data": {
            "text/plain": [
              "17"
            ]
          },
          "metadata": {},
          "execution_count": 212
        }
      ]
    },
    {
      "cell_type": "code",
      "source": [
        "def coin_change1(n, coins, memo):\n",
        "  if n in memo:\n",
        "    return memo[n]\n",
        "\n",
        "  if n == 0:\n",
        "    return [[]]\n",
        "\n",
        "  if n < 0:\n",
        "    return None\n",
        "\n",
        "  result = []\n",
        "\n",
        "  for coin in coins:\n",
        "    ret = coin_change1(n-coin, coins, memo)\n",
        "    ways = []\n",
        "    if ret is not None:\n",
        "      ways = map(lambda l: l + [coin], ret)\n",
        "    result.extend(ways)\n",
        "\n",
        "  memo[n] = result\n",
        "  return result"
      ],
      "metadata": {
        "id": "-gmAw8m6nk75"
      },
      "execution_count": null,
      "outputs": []
    },
    {
      "cell_type": "code",
      "source": [
        "res = coin_change1(n=4, coins=[1,2,3], memo={})\n",
        "sorted(res)"
      ],
      "metadata": {
        "colab": {
          "base_uri": "https://localhost:8080/"
        },
        "id": "XOSuEPpXwy83",
        "outputId": "13029466-0e79-4902-ff57-2670983d6239"
      },
      "execution_count": null,
      "outputs": [
        {
          "output_type": "execute_result",
          "data": {
            "text/plain": [
              "[[1, 1, 1, 1], [1, 1, 2], [1, 2, 1], [1, 3], [2, 1, 1], [2, 2], [3, 1]]"
            ]
          },
          "metadata": {},
          "execution_count": 2
        }
      ]
    },
    {
      "cell_type": "code",
      "source": [
        "# res = list(map(lambda l: sorted(l), res))\n",
        "# res"
      ],
      "metadata": {
        "id": "QGBcsSPwzWjk"
      },
      "execution_count": null,
      "outputs": []
    },
    {
      "cell_type": "code",
      "source": [
        "# set(map(lambda l: tuple(l), res))"
      ],
      "metadata": {
        "id": "HiN6XgAhw1p_"
      },
      "execution_count": null,
      "outputs": []
    },
    {
      "cell_type": "code",
      "source": [
        "import gc\n",
        "gc.collect()\n",
        "\n",
        "sorted(coin_change1(n=10, coins=[2,5,3,6], memo={}))\n",
        "sorted(coin_change1(n=10, coins=[2,5,3,6], memo={}))"
      ],
      "metadata": {
        "colab": {
          "base_uri": "https://localhost:8080/"
        },
        "id": "M0lJSSAOy4nY",
        "outputId": "1c57371b-ba24-45cc-8427-85a4257c13ec"
      },
      "execution_count": null,
      "outputs": [
        {
          "output_type": "execute_result",
          "data": {
            "text/plain": [
              "[[2, 2, 2, 2, 2],\n",
              " [2, 2, 3, 3],\n",
              " [2, 2, 6],\n",
              " [2, 3, 2, 3],\n",
              " [2, 3, 3, 2],\n",
              " [2, 3, 5],\n",
              " [2, 5, 3],\n",
              " [2, 6, 2],\n",
              " [3, 2, 2, 3],\n",
              " [3, 2, 3, 2],\n",
              " [3, 2, 5],\n",
              " [3, 3, 2, 2],\n",
              " [3, 5, 2],\n",
              " [5, 2, 3],\n",
              " [5, 3, 2],\n",
              " [5, 5],\n",
              " [6, 2, 2]]"
            ]
          },
          "metadata": {},
          "execution_count": 215
        }
      ]
    },
    {
      "cell_type": "markdown",
      "source": [
        "Given an unlimited supply of coins of given denominations, find the minimum number of coins required to get the desired change.\n",
        "\n",
        "S = { 1, 3, 5, 7 }.\n",
        "\n",
        "(7 + 7 + 1) or (5 + 5 + 5) or (3 + 5 + 7)\n",
        "\n",
        "If the desired change is 15, the minimum number of coins required is 3\n",
        "\n"
      ],
      "metadata": {
        "id": "ReSS_YrS_1Ui"
      }
    },
    {
      "cell_type": "code",
      "source": [
        "import sys\n",
        "def coins_combination(sum, coins):\n",
        "  if sum == 0 :\n",
        "    return []\n",
        "\n",
        "  if sum < 0:\n",
        "    return None \n",
        "\n",
        "  best_pair = None\n",
        "\n",
        "  for coin in coins:\n",
        "    ret = coins_combination(sum-coin, coins)\n",
        "    if ret is not None:\n",
        "      res = ret + [coin]\n",
        "      if best_pair is None or len(res) < len(best_pair):\n",
        "        best_pair = res\n",
        "  \n",
        "  return best_pair\n",
        "\n",
        " \n",
        "coins_combination(15, [1,3,5,7])"
      ],
      "metadata": {
        "colab": {
          "base_uri": "https://localhost:8080/"
        },
        "id": "YFJbyxrD_zk5",
        "outputId": "a33dc9da-b6a2-4a63-ca39-f9141c29a9fb"
      },
      "execution_count": null,
      "outputs": [
        {
          "output_type": "execute_result",
          "data": {
            "text/plain": [
              "[7, 7, 1]"
            ]
          },
          "metadata": {},
          "execution_count": 5
        }
      ]
    },
    {
      "cell_type": "code",
      "source": [
        "def min_num_coins(sum, coins):\n",
        "\n",
        "  # if sum is 0 no coin is needed to get teh sum\n",
        "  if sum == 0 :\n",
        "    return 0 # this is returned when hit the last node\n",
        "\n",
        "  # If sim is less than 0 then no way of getting the sum\n",
        "  if sum < 0:\n",
        "    return None  # this is returned when sum goes less than 0\n",
        "\n",
        "  length = sys.maxsize \n",
        "\n",
        "  for coin in coins: # we have list to explore so for...loop!\n",
        "    ret = min_num_coins(sum-coin, coins). # get the result\n",
        "    if ret is not None: # if positive case \n",
        "      length = min(length, ret+1) # magic happpens here : check default length and \n",
        "    \n",
        "  return length # when recursion rools back the stored values are returned\n",
        "\n",
        "min_num_coins(15, [1,3,5,7])"
      ],
      "metadata": {
        "id": "a-mT1FJb-h5z",
        "colab": {
          "base_uri": "https://localhost:8080/"
        },
        "outputId": "68e309ef-3069-4922-9ec8-f19421fa33d6"
      },
      "execution_count": null,
      "outputs": [
        {
          "output_type": "execute_result",
          "data": {
            "text/plain": [
              "3"
            ]
          },
          "metadata": {},
          "execution_count": 6
        }
      ]
    },
    {
      "cell_type": "code",
      "source": [
        "min_num_coins(18, [1,3,5,7])"
      ],
      "metadata": {
        "colab": {
          "base_uri": "https://localhost:8080/"
        },
        "id": "GZwj19MP0mpq",
        "outputId": "9b268c23-9572-4fd2-e8ca-951ffffa854e"
      },
      "execution_count": null,
      "outputs": [
        {
          "output_type": "execute_result",
          "data": {
            "text/plain": [
              "4"
            ]
          },
          "metadata": {},
          "execution_count": 7
        }
      ]
    },
    {
      "cell_type": "markdown",
      "source": [
        "\n",
        "Find minimum cost to reach the last cell of a matrix from its first cell\n",
        "\n",
        "Given an M × N matrix of integers where each cell has a cost associated with it, find the minimum cost to reach the last cell (M-1, N-1) of the matrix from its first cell (0, 0). We can only move one unit right or one unit down from any cell, i.e., from cell (i, j), we can move to (i, j+1) or (i+1, j).\n",
        "\n",
        "For example,\n",
        "\n",
        "![image.png](data:image/png;base64,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)\n",
        "\n",
        "Minimum cost path in a matrix\n",
        "\n",
        "The highlighted path shows the minimum cost path having a cost of 36.\n",
        " "
      ],
      "metadata": {
        "id": "ez8y4bAZ-yFO"
      }
    },
    {
      "cell_type": "code",
      "source": [
        "def find_min_cost(m, n, cost):\n",
        "  pass\n",
        "\n",
        "  "
      ],
      "metadata": {
        "id": "l6aptPxf0shr"
      },
      "execution_count": null,
      "outputs": []
    }
  ]
}